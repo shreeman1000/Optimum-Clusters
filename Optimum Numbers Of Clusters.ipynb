{
 "cells": [
  {
   "cell_type": "markdown",
   "id": "52a20dae",
   "metadata": {},
   "source": [
    "<h1 align=\"center\"> The Sparks Fundation </h1>\n",
    "<h2 align=\"center\"> Task 2 </h2>\n",
    "<h2 align=\"center\"> Find Optimum Number Of Clusters </h2>\n",
    "<h5 align = \"right\"> by- </h5>\n",
    "<h5 align = \"right\"> Shreeman Agrawal </h5>"
   ]
  },
  {
   "cell_type": "markdown",
   "id": "58a51a5e",
   "metadata": {},
   "source": [
    "### Importing the Required Libraries"
   ]
  },
  {
   "cell_type": "code",
   "execution_count": 1,
   "id": "84ea1f51",
   "metadata": {},
   "outputs": [],
   "source": [
    "import numpy as np\n",
    "import matplotlib.pyplot as plt\n",
    "import pandas as pd\n",
    "from sklearn.cluster import KMeans\n",
    "from sklearn.metrics import accuracy_score\n",
    "from sklearn import datasets\n",
    "%matplotlib inline"
   ]
  },
  {
   "cell_type": "markdown",
   "id": "48e1347a",
   "metadata": {},
   "source": [
    "### Importing the iris dataset"
   ]
  },
  {
   "cell_type": "code",
   "execution_count": 2,
   "id": "0614be77",
   "metadata": {},
   "outputs": [
    {
     "data": {
      "text/html": [
       "<div>\n",
       "<style scoped>\n",
       "    .dataframe tbody tr th:only-of-type {\n",
       "        vertical-align: middle;\n",
       "    }\n",
       "\n",
       "    .dataframe tbody tr th {\n",
       "        vertical-align: top;\n",
       "    }\n",
       "\n",
       "    .dataframe thead th {\n",
       "        text-align: right;\n",
       "    }\n",
       "</style>\n",
       "<table border=\"1\" class=\"dataframe\">\n",
       "  <thead>\n",
       "    <tr style=\"text-align: right;\">\n",
       "      <th></th>\n",
       "      <th>sepal length (cm)</th>\n",
       "      <th>sepal width (cm)</th>\n",
       "      <th>petal length (cm)</th>\n",
       "      <th>petal width (cm)</th>\n",
       "    </tr>\n",
       "  </thead>\n",
       "  <tbody>\n",
       "    <tr>\n",
       "      <th>0</th>\n",
       "      <td>5.1</td>\n",
       "      <td>3.5</td>\n",
       "      <td>1.4</td>\n",
       "      <td>0.2</td>\n",
       "    </tr>\n",
       "    <tr>\n",
       "      <th>1</th>\n",
       "      <td>4.9</td>\n",
       "      <td>3.0</td>\n",
       "      <td>1.4</td>\n",
       "      <td>0.2</td>\n",
       "    </tr>\n",
       "    <tr>\n",
       "      <th>2</th>\n",
       "      <td>4.7</td>\n",
       "      <td>3.2</td>\n",
       "      <td>1.3</td>\n",
       "      <td>0.2</td>\n",
       "    </tr>\n",
       "    <tr>\n",
       "      <th>3</th>\n",
       "      <td>4.6</td>\n",
       "      <td>3.1</td>\n",
       "      <td>1.5</td>\n",
       "      <td>0.2</td>\n",
       "    </tr>\n",
       "    <tr>\n",
       "      <th>4</th>\n",
       "      <td>5.0</td>\n",
       "      <td>3.6</td>\n",
       "      <td>1.4</td>\n",
       "      <td>0.2</td>\n",
       "    </tr>\n",
       "  </tbody>\n",
       "</table>\n",
       "</div>"
      ],
      "text/plain": [
       "   sepal length (cm)  sepal width (cm)  petal length (cm)  petal width (cm)\n",
       "0                5.1               3.5                1.4               0.2\n",
       "1                4.9               3.0                1.4               0.2\n",
       "2                4.7               3.2                1.3               0.2\n",
       "3                4.6               3.1                1.5               0.2\n",
       "4                5.0               3.6                1.4               0.2"
      ]
     },
     "execution_count": 2,
     "metadata": {},
     "output_type": "execute_result"
    }
   ],
   "source": [
    "iris = datasets.load_iris()\n",
    "X = pd.DataFrame(iris.data, columns = iris.feature_names)\n",
    "y = iris.target\n",
    "X.head()"
   ]
  },
  {
   "cell_type": "markdown",
   "id": "43b14d99",
   "metadata": {},
   "source": [
    "### Testing the dataset for different number of clusters\n",
    "We test the dataset for clusters from 1 to 11 and save the values of the avg distance of point from their cluster center, aka Inertia."
   ]
  },
  {
   "cell_type": "code",
   "execution_count": 3,
   "id": "148a2e13",
   "metadata": {},
   "outputs": [],
   "source": [
    "score = list()\n",
    "for i in range(1,12):\n",
    "    cluster = KMeans(n_clusters=i,random_state=10)\n",
    "    cluster.fit(X)\n",
    "    score.append([i,cluster.inertia_])"
   ]
  },
  {
   "cell_type": "code",
   "execution_count": 4,
   "id": "103dcf5c",
   "metadata": {},
   "outputs": [
    {
     "name": "stdout",
     "output_type": "stream",
     "text": [
      "    Clusters     Inertia\n",
      "0        1.0  681.370600\n",
      "1        2.0  152.347952\n",
      "2        3.0   78.851441\n",
      "3        4.0   57.228473\n",
      "4        5.0   46.446182\n",
      "5        6.0   39.066035\n",
      "6        7.0   34.298230\n",
      "7        8.0   30.328666\n",
      "8        9.0   28.146939\n",
      "9       10.0   26.315045\n",
      "10      11.0   24.613279\n"
     ]
    }
   ],
   "source": [
    "score = np.array(score)\n",
    "score = pd.DataFrame(score,columns=['Clusters','Inertia'])\n",
    "print(score)"
   ]
  },
  {
   "cell_type": "markdown",
   "id": "87be0152",
   "metadata": {},
   "source": [
    "### Plotting the graph to find the elbow point\n",
    "\n",
    "Using the \"elbow\" or \"knee of a curve\" as a cutoff point is a common heuristic in mathematical optimization to choose a point where diminishing returns are no longer worth the additional cost.<br>\n",
    "Elbow point is visible on the graph after which the decrease in Inertai becomes a linear functions"
   ]
  },
  {
   "cell_type": "code",
   "execution_count": 5,
   "id": "b6a2b8c7",
   "metadata": {},
   "outputs": [
    {
     "data": {
      "image/png": "[encoded data removed]",
      "text/plain": [
       "<Figure size 720x432 with 1 Axes>"
      ]
     },
     "metadata": {
      "needs_background": "light"
     },
     "output_type": "display_data"
    }
   ],
   "source": [
    "fig = plt.figure(figsize = (10,6))\n",
    "plt.plot(score.iloc[:,0].values,score.iloc[:,1].values,color = 'green')\n",
    "plt.xlabel('Number of Clusters ->')\n",
    "plt.ylabel('Inertia ->')\n",
    "plt.title('Using Elbow Method')\n",
    "plt.annotate(\"Elbow Point\", (score.iloc[2,0],score.iloc[2,1]),xytext =(score.iloc[2,0],score.iloc[2,1]+50),\n",
    "             arrowprops = dict(facecolor ='green',arrowstyle = \"->\"))\n",
    "plt.xticks(np.arange(12),np.arange(12))\n",
    "plt.show()"
   ]
  },
  {
   "cell_type": "markdown",
   "id": "65d26115",
   "metadata": {},
   "source": [
    "From the plot we can conclude that the elbow point is reached when number of clusters is equal to 3"
   ]
  },
  {
   "cell_type": "markdown",
   "id": "0e899e6b",
   "metadata": {},
   "source": [
    "### Modelling and visualizing taking 3 as the basis"
   ]
  },
  {
   "cell_type": "code",
   "execution_count": 6,
   "id": "8b3821b6",
   "metadata": {},
   "outputs": [
    {
     "data": {
      "text/plain": [
       "KMeans(n_clusters=3, random_state=10)"
      ]
     },
     "execution_count": 6,
     "metadata": {},
     "output_type": "execute_result"
    }
   ],
   "source": [
    "cluster = KMeans(n_clusters=3,random_state=10)\n",
    "cluster.fit(X)"
   ]
  },
  {
   "cell_type": "code",
   "execution_count": 7,
   "id": "ef95f796",
   "metadata": {},
   "outputs": [
    {
     "data": {
      "text/plain": [
       "array([[5.006     , 3.428     ],\n",
       "       [5.9016129 , 2.7483871 ],\n",
       "       [6.85      , 3.07368421]])"
      ]
     },
     "execution_count": 7,
     "metadata": {},
     "output_type": "execute_result"
    }
   ],
   "source": [
    "cc = cluster.cluster_centers_\n",
    "cc[:,:2]\n",
    "# these are the chosen centre for clusters"
   ]
  },
  {
   "cell_type": "markdown",
   "id": "1b3be3da",
   "metadata": {},
   "source": [
    "#### Plotting map based on first two and last two coordinates of the the data and chosen cluster to check accuracy as we can't represent all dimensions easily"
   ]
  },
  {
   "cell_type": "code",
   "execution_count": 8,
   "id": "883d9da6",
   "metadata": {},
   "outputs": [
    {
     "data": {
      "image/png": "[encoded data removed]",
      "text/plain": [
       "<Figure size 432x288 with 1 Axes>"
      ]
     },
     "metadata": {
      "needs_background": "light"
     },
     "output_type": "display_data"
    }
   ],
   "source": [
    "plt.scatter(X[y==0].iloc[:,0].values,X[y==0].iloc[:,1].values,color = 'red')\n",
    "plt.scatter(X[y==1].iloc[:,0].values,X[y==1].iloc[:,1].values,color = 'blue')\n",
    "plt.scatter(X[y==2].iloc[:,0].values,X[y==2].iloc[:,1].values,color = 'grey')\n",
    "plt.scatter(cc[:,0],cc[:,1],color = 'green')\n",
    "plt.show()"
   ]
  },
  {
   "cell_type": "code",
   "execution_count": 9,
   "id": "db912731",
   "metadata": {},
   "outputs": [
    {
     "data": {
      "image/png": "[encoded data removed]",
      "text/plain": [
       "<Figure size 432x288 with 1 Axes>"
      ]
     },
     "metadata": {
      "needs_background": "light"
     },
     "output_type": "display_data"
    }
   ],
   "source": [
    "plt.scatter(X[y==0].iloc[:,2].values,X[y==0].iloc[:,3].values,color = 'red')\n",
    "plt.scatter(X[y==1].iloc[:,2].values,X[y==1].iloc[:,3].values,color = 'blue')\n",
    "plt.scatter(X[y==2].iloc[:,2].values,X[y==2].iloc[:,3].values,color = 'grey')\n",
    "plt.scatter(cc[:,2],cc[:,3],color = 'green')\n",
    "plt.show()"
   ]
  },
  {
   "cell_type": "markdown",
   "id": "6f3a7616",
   "metadata": {},
   "source": [
    "Thus we can conclude that 3 is the best chosen and it is confirmed as there are only three classes in the dataset."
   ]
  },
  {
   "cell_type": "code",
   "execution_count": 10,
   "id": "796230e5",
   "metadata": {},
   "outputs": [
    {
     "name": "stdout",
     "output_type": "stream",
     "text": [
      "[0 0 0 0 0 0 0 0 0 0 0 0 0 0 0 0 0 0 0 0 0 0 0 0 0 0 0 0 0 0 0 0 0 0 0 0 0\n",
      " 0 0 0 0 0 0 0 0 0 0 0 0 0 1 1 2 1 1 1 1 1 1 1 1 1 1 1 1 1 1 1 1 1 1 1 1 1\n",
      " 1 1 1 2 1 1 1 1 1 1 1 1 1 1 1 1 1 1 1 1 1 1 1 1 1 1 2 1 2 2 2 2 1 2 2 2 2\n",
      " 2 2 1 1 2 2 2 2 1 2 1 2 1 2 2 1 1 2 2 2 2 2 1 2 2 2 2 1 2 2 2 1 2 2 2 1 2\n",
      " 2 1] \n",
      " [0 0 0 0 0 0 0 0 0 0 0 0 0 0 0 0 0 0 0 0 0 0 0 0 0 0 0 0 0 0 0 0 0 0 0 0 0\n",
      " 0 0 0 0 0 0 0 0 0 0 0 0 0 1 1 1 1 1 1 1 1 1 1 1 1 1 1 1 1 1 1 1 1 1 1 1 1\n",
      " 1 1 1 1 1 1 1 1 1 1 1 1 1 1 1 1 1 1 1 1 1 1 1 1 1 1 2 2 2 2 2 2 2 2 2 2 2\n",
      " 2 2 2 2 2 2 2 2 2 2 2 2 2 2 2 2 2 2 2 2 2 2 2 2 2 2 2 2 2 2 2 2 2 2 2 2 2\n",
      " 2 2]\n"
     ]
    }
   ],
   "source": [
    "print(cluster.predict(X),\"\\n\",y)"
   ]
  },
  {
   "cell_type": "markdown",
   "id": "de0da495",
   "metadata": {},
   "source": [
    "also we can see most labels are correctly identified."
   ]
  },
  {
   "cell_type": "code",
   "execution_count": 12,
   "id": "f44d2700",
   "metadata": {},
   "outputs": [
    {
     "name": "stdout",
     "output_type": "stream",
     "text": [
      "Inertia of the model = 78.851441426146\n"
     ]
    }
   ],
   "source": [
    "print(\"Inertia of the model =\",cluster.inertia_)"
   ]
  },
  {
   "cell_type": "markdown",
   "id": "2ab178ad",
   "metadata": {},
   "source": [
    "Inertia measures how well a dataset was clustered by K-Means. It is calculated by measuring the distance between each data point and its centroid, squaring this distance, and summing these squares across one cluster. A good model is one with low inertia AND a low number of clusters ( K ), both of these conditions are met her as k =3."
   ]
  }
 ],
 "metadata": {
  "kernelspec": {
   "display_name": "Python 3",
   "language": "python",
   "name": "python3"
  },
  "language_info": {
   "codemirror_mode": {
    "name": "ipython",
    "version": 3
   },
   "file_extension": ".py",
   "mimetype": "text/x-python",
   "name": "python",
   "nbconvert_exporter": "python",
   "pygments_lexer": "ipython3",
   "version": "3.8.10"
  }
 },
 "nbformat": 4,
 "nbformat_minor": 5
}
